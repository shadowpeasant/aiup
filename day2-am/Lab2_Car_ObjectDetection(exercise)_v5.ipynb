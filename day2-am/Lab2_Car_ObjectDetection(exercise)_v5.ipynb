{
  "nbformat": 4,
  "nbformat_minor": 0,
  "metadata": {
    "accelerator": "GPU",
    "colab": {
      "provenance": []
    },
    "kernelspec": {
      "display_name": "Python 3",
      "language": "python",
      "name": "python3"
    },
    "language_info": {
      "codemirror_mode": {
        "name": "ipython",
        "version": 3
      },
      "file_extension": ".py",
      "mimetype": "text/x-python",
      "name": "python",
      "nbconvert_exporter": "python",
      "pygments_lexer": "ipython3",
      "version": "3.7.6"
    }
  },
  "cells": [
    {
      "cell_type": "markdown",
      "metadata": {
        "id": "WTnGLd0NqW97"
      },
      "source": [
        "![image](https://drive.google.com/uc?id=1iBMNGCrSdaLK9SD6BjsuNjB1DjHVkLZl)\n",
        "\n",
        "\n",
        "Welcome to the lab! Before we get started here are a few pointers on Jupyter notebooks.\n",
        "\n",
        "1. The notebook is composed of cells; cells can contain code which you can run by click on the play button.\n",
        "\n",
        "\n",
        "2. To interrupt cell execution, click the ```Stop``` button on the side of the cell."
      ]
    },
    {
      "cell_type": "markdown",
      "metadata": {
        "id": "p7kdWxWYoOtS"
      },
      "source": [
        "# **Lab 2 Car Object Detection**\n",
        "\n",
        "In this Lab we will try to build a car object detector to helps in the recognition and localization of multiple car instances in an image.\n",
        "\n",
        "The predicted output from the object detector will the label of the object and the bounding box to denote the location of the object. In the following, you can see an example of the object detector predicted 2 objects with label vehicle and 2 bounding boxes to indicate the objects' location.\n",
        "\n",
        "![image](https://drive.google.com/uc?id=1a8Wr4zlQ7cXVtxx7y4xTeVzVMOPD_GDg)\n",
        "\n",
        "\n",
        "Similar to the Classification problem, we need to collect the data for training. We will collect images that contain cars and provide labels. For Object Detection problem we also need to annotate the locations of the cars in the images to be part of the label. With the prepared dataset, we can do training with the Object Detection neural network.\n",
        "\n",
        "\n",
        "\n",
        "\n",
        "\n",
        "We will build the car object detector based on the following steps\n",
        "\n",
        "1.   Collect images for the class car\n",
        "2.   Annotate each of the objects inside the images\n",
        "3.   Train the model with the training set and evaluate it performance\n",
        "4.   Prediction using trained model\n",
        "\n",
        "\n"
      ]
    },
    {
      "cell_type": "markdown",
      "metadata": {
        "id": "sZR4n_p7vcT8"
      },
      "source": [
        "Install modules\n",
        "\n",
        "**There are some modules incompatibility but we are not using it. When encounter the error just press restart runtime and continue next cell**"
      ]
    },
    {
      "cell_type": "code",
      "metadata": {
        "id": "9XlAISd_qh9v"
      },
      "source": [
        "\n",
        "!pip install tensorflow==2.4.0\n",
        "!pip install imageai==2.1.6\n"
      ],
      "execution_count": null,
      "outputs": []
    },
    {
      "cell_type": "markdown",
      "metadata": {
        "id": "DAdHp9orDa6_"
      },
      "source": [
        "# **1. Collect images for the class car**\n",
        "\n",
        "We have pre-collected about 25 images of the car for this lab.  It is split into 20 images for training and  5 images for validation.\n",
        "\n",
        "It is stored in the following dataset directory.\n",
        "\n",
        "For train data, it is stored in the path ./Lab2dataset/data/train.\n",
        "```\n",
        "./Lab2dataset/data/train\n",
        "                           |- annotations\n",
        "                           |- images\n",
        "                   \n",
        "```\n",
        "For train data, it is stored in the path ./Lab2dataset/data/validation.\n",
        "```\n",
        "./Lab2dataset/data/validation\n",
        "                           |- annotations\n",
        "                           |- images\n",
        "```\n",
        "\n"
      ]
    },
    {
      "cell_type": "markdown",
      "metadata": {
        "id": "ZZF6AJn_wM9b"
      },
      "source": [
        "Download the data and unzip it."
      ]
    },
    {
      "cell_type": "code",
      "metadata": {
        "id": "nKxiIWA9qvnW"
      },
      "source": [
        "!wget https://nyp-aicourse.s3-ap-southeast-1.amazonaws.com/aiup/day2-am/Lab2dataset.zip\n",
        "!unzip Lab2dataset.zip"
      ],
      "execution_count": null,
      "outputs": []
    },
    {
      "cell_type": "markdown",
      "metadata": {
        "id": "_lMDqoT7qW99"
      },
      "source": [
        "### Exercise\n",
        "\n",
        "\n",
        "Try to display different images with the following code.\n",
        "\n",
        "- Set image directory and file name in the imread() function eg.  data_path_train_images+'img1.jpg'\n",
        "\n",
        "If you can do so, that means the dataset is copied correctly into the lab directory.\n"
      ]
    },
    {
      "cell_type": "code",
      "metadata": {
        "id": "KhTgJj138RC4"
      },
      "source": [
        "\n",
        "data_dir_path='Lab2dataset/'\n",
        "models_path=data_dir_path+'models/'\n",
        "data_path_train_images=data_dir_path+'train/images/'\n",
        "data_path_validation_images= data_dir_path+'validation/images/'"
      ],
      "execution_count": null,
      "outputs": []
    },
    {
      "cell_type": "code",
      "metadata": {
        "id": "MDCS44T6qW-B"
      },
      "source": [
        "import matplotlib.pyplot as plt\n",
        "import matplotlib.image as mpimg\n",
        "\n",
        "# TODO: complete the code below\n",
        "img = mpimg.imread(#add code - train directory and image file name)\n",
        "plt.imshow(img)"
      ],
      "execution_count": null,
      "outputs": []
    },
    {
      "cell_type": "markdown",
      "metadata": {
        "id": "Ds3nszHmDtys"
      },
      "source": [
        "# **2. Annotate each of the objects inside the image**\n",
        "\n",
        "In this section we will try to practice how to label and annotate image data. With the help of the LabelImage application, we can label the object and define bounding box parameters.\n",
        "\n",
        "This exercise will be running on the local computer with the Window OS.\n"
      ]
    },
    {
      "cell_type": "markdown",
      "metadata": {
        "id": "3cjrsTDBqW-E"
      },
      "source": [
        "Link to [Annotation exercise](Lab2_Annotation.md)"
      ]
    },
    {
      "cell_type": "markdown",
      "metadata": {
        "id": "tHfoQbCRGjfQ"
      },
      "source": [
        "# **3. Train the model with the training set and evaluate it performance**\n",
        "\n",
        "YOLO(Your Only Look Once) is very popular because it achieves high accuracy while also being able to run in real-time. The algorithm “only looks once” at the image in the sense that it only requires the image or the video to pass through the neural network once to make predictions.\n",
        "\n",
        "With YOLO, a single CNN simultaneously predicts multiple bounding boxes and class probabilities for those boxes. This means they recognize where the object is at and uses bounding boxes to show where it is at, and uses class probability to determine what the object is.\n",
        "\n",
        "\n",
        "![image](https://drive.google.com/uc?id=16IMqEc7bhPz0zPE-iD2SosFqA0hgK5kb)\n"
      ]
    },
    {
      "cell_type": "markdown",
      "metadata": {
        "id": "fks1o7zc83IX"
      },
      "source": [
        "### Exercise\n",
        "\n",
        "In this exercise we are going to define the Custom YOLO Object Detection model and perform training.\n",
        "\n",
        "We will reuse a YOLO pre-trained model in our problem, this is also known as transfer learning. Transfer learning exploits the knowledge gained from a previous task to improve generalization about another.\n",
        "\n",
        "Complete the following steps to add the codes.\n",
        "\n",
        "- Set the image dataset directory for the training. Remember we have copy our dataset to the directory /dataset/Lab2dataset/data/train previously. Define the directory inside the function trainer.setDataDirectory(data_directory= directory)\n",
        "\n",
        "   \n",
        "- Set our YOLO object detection model training parameters in the following function\n",
        "```\n",
        "trainer.setTrainConfig()\n",
        "```\n",
        "\n",
        "    *   object_names_array : this is an array containing the names of the objects in our dataset(in our case we labeled it car) eg. ['car']\n",
        "    *   batch_size : The batch size allow large dataset to be able to load into the model for training\n",
        "    *   num_experiments : The number of times the network will train over all the training images, which is also called epochs\n",
        "    *   train_from_pretrained_model : pre-trained YOLOv3 model file name\n",
        "\n",
        "\n",
        "\n",
        "- Set the num_experiements=5 and run the training. Use the Jupyter file browser, goto directory './dataset/Lab2dataset/models/'. How many weigths files are stored in the directory? How do you know which weight is the best trianed model?\n",
        "<details><summary>Click here for answer</summary>\n",
        "<br/>\n",
        "There are 5 files beacause we setted the iterations to be 5.\n",
        "The file name is form using iteration number and the loss value.\n",
        " eg. detection_model-ex-025--loss-0005.643.h5\n",
        " From the smallest loss value of the file name we can determine which is the best weights.\n",
        "<br/>\n",
        "</details>\n",
        "\n",
        "\n",
        "You can use these different trained weights to test the prediction in the next exercise.\n"
      ]
    },
    {
      "cell_type": "code",
      "metadata": {
        "id": "FrVHH-Ha9CVl"
      },
      "source": [
        "\n",
        "from imageai.Detection.Custom import DetectionModelTrainer\n",
        "trainer = DetectionModelTrainer()\n",
        "trainer.setModelTypeAsYOLOv3()\n",
        "\n",
        "# TODO: complete the code below-add the main path where data is stored\n",
        "trainer.setDataDirectory(data_directory=  #add code)\n",
        "\n",
        "# TODO: complete the code below-Set the training parameters\n",
        "trainer.setTrainConfig(object_names_array=[#add code], batch_size=4, num_experiments=#add code, train_from_pretrained_model=data_dir_path+\"pretrained-yolov3.h5\")\n",
        ".\n",
        "trainer.trainModel()"
      ],
      "execution_count": null,
      "outputs": []
    },
    {
      "cell_type": "markdown",
      "metadata": {
        "id": "iX-LsyOFHnup"
      },
      "source": [
        "# 4. Prediction using trained model\n",
        "\n",
        "The trained object detection model will predict the objects’ output labels with the corresponding bounding boxes.\n"
      ]
    },
    {
      "cell_type": "markdown",
      "metadata": {
        "id": "w0zylTTmqW-H"
      },
      "source": [
        "### Exercise\n",
        "For this exercise, we will load the trained weight into the YOLO neural network and perform the prediction.\n",
        "\n",
        "- Choose one of the weights file from the previous exercise. Choose weights with ex-005, assign the directory and file name in the following YOLO neural network function. eg. models_path+'detection_model-ex-005--loss-0016.248.h5'\n",
        "```\n",
        "detector.setModelPath()\n",
        "```\n",
        "- Assign the prediction image directory and file name to the following YOLO neural network function. Give a directory and different file name to store the predicted result. eg. data_dir_path+\"image1.jpg\"\n",
        "```\n",
        "detector.detectObjectsFromImage()\n",
        "```\n",
        "\n",
        "\n",
        "- Run the prediction and observe the output. What do the 3 values represent on each line?\n",
        "<details><summary>Click here for answer</summary>\n",
        "<br/>\n",
        "the 3 values are label name, probability and bounding box.\n",
        "The label name shows the object being classified and the probability displayed how confidence the object being predicted. And the box points show the localization of the object using the bottom left coordinate and the upper right coordinate to form a bounding box.\n",
        "<br/>\n",
        "</details>\n",
        "\n",
        "- Display the image with the predicted result. Add predicted result directory and output image file name to the imread() function(You can find it from the above detector.detectObjectsFromImage() function).\n",
        "\n",
        "\n"
      ]
    },
    {
      "cell_type": "code",
      "metadata": {
        "id": "jBTP2vr0Hubs"
      },
      "source": [
        "from imageai.Detection.Custom import CustomObjectDetection\n",
        "detector = CustomObjectDetection()\n",
        "detector.setModelTypeAsYOLOv3()\n",
        "\n",
        "# TODO: complete the code below\n",
        "detector.setModelPath(#add code)\n",
        "\n",
        "detector.setJsonPath(data_dir_path+\"json/detection_config.json\")\n",
        "\n",
        "detector.loadModel()\n",
        "\n",
        "# TODO: complete the code below\n",
        "detections = detector.detectObjectsFromImage(input_image=#add code, output_image_path=#add code)\n",
        "for detection in detections:\n",
        "    print(detection[\"name\"], \" : \", detection[\"percentage_probability\"], \" : \", detection[\"box_points\"])\n",
        "\n",
        "# TODO: complete the code below\n",
        "img = mpimg.imread(#add code - directory and output image file name)\n",
        "plt.imshow(img)\n",
        ""
      ],
      "execution_count": null,
      "outputs": []
    },
    {
      "cell_type": "markdown",
      "metadata": {
        "id": "3098olPAqW-L"
      },
      "source": [
        "Once you have loaded the weights into the YOLO model, you can continue to use it to predict other images.\n",
        "\n",
        "- Assign another prediction image directory and file name to the following YOLO neural network function. Give a directory and different file name to store the predicted result.eg. data_dir_path+\"image2.jpg\"\n",
        "\n",
        "- Display the image with the predicted result. Add directory and output image file name from prediction to the imread() function."
      ]
    },
    {
      "cell_type": "code",
      "metadata": {
        "id": "PKPKBwYyEpuS"
      },
      "source": [
        "detections = detector.detectObjectsFromImage(input_image=#add code, output_image_path=#add code)\n",
        "for detection in detections:\n",
        "    print(detection[\"name\"], \" : \", detection[\"percentage_probability\"], \" : \", detection[\"box_points\"])\n",
        "\n",
        "img = mpimg.imread(#add code - directory and output image file name)\n",
        "plt.imshow(img)\n",
        ""
      ],
      "execution_count": null,
      "outputs": []
    },
    {
      "cell_type": "markdown",
      "metadata": {
        "id": "4g7aBGgxqW-O"
      },
      "source": [
        "Try with the given pre-trained weights(trained_detection_model-ex-025--loss-0005.643.h5) with lower loss value compare with the previous step.\n",
        "Compare the probability and the postion of the bounding box with the ones predicted by the model using epoch 5 weights.\n"
      ]
    },
    {
      "cell_type": "code",
      "metadata": {
        "id": "3lO793aBqW-O"
      },
      "source": [
        "detector = CustomObjectDetection()\n",
        "detector.setModelTypeAsYOLOv3()\n",
        "\n",
        "# TODO: complete the code below\n",
        "detector.setModelPath(#add code)\n",
        "\n",
        "detector.setJsonPath(data_dir_path+\"json/detection_config.json\")\n",
        "\n",
        "detector.loadModel()\n",
        "\n",
        "# TODO: complete the code below\n",
        "detections = detector.detectObjectsFromImage(input_image=#add code, output_image_path=#add code)\n",
        "for detection in detections:\n",
        "    print(detection[\"name\"], \" : \", detection[\"percentage_probability\"], \" : \", detection[\"box_points\"])\n",
        "\n",
        "img = mpimg.imread(#add code - directory and output image file name)\n",
        "plt.imshow(img)\n",
        ""
      ],
      "execution_count": null,
      "outputs": []
    },
    {
      "cell_type": "code",
      "metadata": {
        "id": "dLsh-tOXqW-Q"
      },
      "source": [
        "detections = detector.detectObjectsFromImage(input_image=#add code, output_image_path=#add code)\n",
        "for detection in detections:\n",
        "    print(detection[\"name\"], \" : \", detection[\"percentage_probability\"], \" : \", detection[\"box_points\"])\n",
        "\n",
        "img = mpimg.imread(#add code - directory and output image file name)\n",
        "plt.imshow(img)"
      ],
      "execution_count": null,
      "outputs": []
    }
  ]
}