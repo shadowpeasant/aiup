{
  "cells": [
    {
      "cell_type": "markdown",
      "metadata": {
        "id": "view-in-github",
        "colab_type": "text"
      },
      "source": [
        "<a href=\"https://colab.research.google.com/github/shadowpeasant/aiup/blob/main/day2-pm/lab2/day2pm_lab2_colab_exercise.ipynb\" target=\"_parent\"><img src=\"https://colab.research.google.com/assets/colab-badge.svg\" alt=\"Open In Colab\"/></a>"
      ]
    },
    {
      "cell_type": "markdown",
      "metadata": {
        "id": "Dt_YYyPhYZ30"
      },
      "source": [
        "<img src=\"https://www.nyp.edu.sg/content/dam/nyp/logo.png\" width='200'/>\n",
        "\n",
        "Welcome to the lab! Before we get started here are a few pointers on Jupyter notebooks.\n",
        "\n",
        "1. The notebook is composed of cells; cells can contain code which you can run, or they can hold text and/or images which are there for you to read.\n",
        "\n",
        "2. You can execute code cells by clicking the ```Run``` icon in the menu, or via the following keyboard shortcuts ```Shift-Enter``` (run and advance) or ```Ctrl-Enter``` (run and stay in the current cell).\n",
        "\n",
        "3. To interrupt cell execution, click the ```Stop``` button on the toolbar or navigate to the ```Kernel``` menu, and select ```Interrupt ```.\n"
      ]
    },
    {
      "cell_type": "markdown",
      "metadata": {
        "id": "55y4bNNIC3Jt"
      },
      "source": [
        "# Lab 2 - Sentiment Analysis with Deep Learning (Keras)\n",
        "\n",
        "Now that we have learn how to use Naive Bayes and SVM to classify sentiments in a document of text, let's now learn how to use Deep Learning to do the same."
      ]
    },
    {
      "cell_type": "code",
      "execution_count": 5,
      "metadata": {
        "id": "ckctkt0DYZ31",
        "outputId": "8b21f9b8-3cbe-4970-fbbc-c153597391d1",
        "colab": {
          "base_uri": "https://localhost:8080/"
        }
      },
      "outputs": [
        {
          "output_type": "stream",
          "name": "stdout",
          "text": [
            "--2023-11-17 05:59:42--  https://nyp-aicourse.s3-ap-southeast-1.amazonaws.com/aiup/day2-pm/lab2/lab2.zip\n",
            "Resolving nyp-aicourse.s3-ap-southeast-1.amazonaws.com (nyp-aicourse.s3-ap-southeast-1.amazonaws.com)... 52.219.129.31, 3.5.147.122, 52.219.125.35, ...\n",
            "Connecting to nyp-aicourse.s3-ap-southeast-1.amazonaws.com (nyp-aicourse.s3-ap-southeast-1.amazonaws.com)|52.219.129.31|:443... connected.\n",
            "HTTP request sent, awaiting response... 200 OK\n",
            "Length: 320983372 (306M) [application/zip]\n",
            "Saving to: ‘lab2.zip.2’\n",
            "\n",
            "lab2.zip.2          100%[===================>] 306.11M  21.2MB/s    in 15s     \n",
            "\n",
            "2023-11-17 05:59:58 (19.9 MB/s) - ‘lab2.zip.2’ saved [320983372/320983372]\n",
            "\n",
            "--2023-11-17 05:59:58--  https://raw.githubusercontent.com/nyp-sit/aiup/main/day2-pm/lab2/helpers.py\n",
            "Resolving raw.githubusercontent.com (raw.githubusercontent.com)... 185.199.110.133, 185.199.109.133, 185.199.111.133, ...\n",
            "Connecting to raw.githubusercontent.com (raw.githubusercontent.com)|185.199.110.133|:443... connected.\n",
            "HTTP request sent, awaiting response... 200 OK\n",
            "Length: 14328 (14K) [text/plain]\n",
            "Saving to: ‘helpers.py.2’\n",
            "\n",
            "helpers.py.2        100%[===================>]  13.99K  --.-KB/s    in 0.001s  \n",
            "\n",
            "2023-11-17 05:59:58 (18.0 MB/s) - ‘helpers.py.2’ saved [14328/14328]\n",
            "\n",
            "Archive:  lab2.zip\n",
            "replace data/glove.6B.200d.txt? [y]es, [n]o, [A]ll, [N]one, [r]ename: Import helpers complete.\n"
          ]
        }
      ],
      "source": [
        "!wget https://nyp-aicourse.s3-ap-southeast-1.amazonaws.com/aiup/day2-pm/lab2/lab2.zip\n",
        "!wget https://raw.githubusercontent.com/nyp-sit/aiup/main/day2-pm/lab2/helpers.py\n",
        "\n",
        "!unzip lab2.zip\n",
        "\n",
        "from helpers import *\n",
        "print (\"Import helpers complete.\")"
      ]
    },
    {
      "cell_type": "markdown",
      "metadata": {
        "id": "TP9-KK6JgMLr"
      },
      "source": [
        "## Section 2.1 - Load Data from CSV\n",
        "\n",
        "Update the following code below to load the training and test data from the CSV files.\n"
      ]
    },
    {
      "cell_type": "code",
      "execution_count": 6,
      "metadata": {
        "id": "OSav2mIAFzWy",
        "outputId": "76de0e8f-eec0-418d-bfc9-0f91ada66da0",
        "colab": {
          "base_uri": "https://localhost:8080/"
        }
      },
      "outputs": [
        {
          "output_type": "stream",
          "name": "stdout",
          "text": [
            "Loading training data...\n",
            "Loading test data...\n",
            "Complete.\n"
          ]
        }
      ],
      "source": [
        "# TODO:\n",
        "# Update the code below to indicate the correct file names, the columns used\n",
        "# input text, and the output label class, and some maximum limits\n",
        "#\n",
        "load_text_data_from_csv(\n",
        "    \"data/train.csv\",                           # The training CSV file\n",
        "    \"data/test.csv\",                           # The test CSV file\n",
        "    \"review\",                           # The column in the CSV used as the input text\n",
        "    \"sentiment\")                           # The column in the CSV used as the output classification label"
      ]
    },
    {
      "cell_type": "markdown",
      "metadata": {
        "id": "6TvkwdtRYZ37"
      },
      "source": [
        "Run the following cell to see how the data loaded from the CSV files look like, when it's stored in Python variables."
      ]
    },
    {
      "cell_type": "code",
      "execution_count": 7,
      "metadata": {
        "id": "ZNcma73kYZ38",
        "outputId": "69470bf8-47cd-4002-e93d-8855499c7093",
        "colab": {
          "base_uri": "https://localhost:8080/"
        }
      },
      "outputs": [
        {
          "output_type": "stream",
          "name": "stdout",
          "text": [
            "[\"One of the other reviewers has mentioned that after watching just 1 Oz episode you'll be hooked. They are right, as this is exactly what happened with me.<br /><br />The first thing that struck me about Oz was its brutality and unflinching scenes of violence, which set in right from the word GO. Trust me, this is not a show for the faint hearted or timid. This show pulls no punches with regards to drugs, sex or violence. Its is hardcore, in the classic use of the word.<br /><br />It is called OZ as that is the nickname given to the Oswald Maximum Security State Penitentary. It focuses mainly on Emerald City, an experimental section of the prison where all the cells have glass fronts and face inwards, so privacy is not high on the agenda. Em City is home to many..Aryans, Muslims, gangstas, Latinos, Christians, Italians, Irish and more....so scuffles, death stares, dodgy dealings and shady agreements are never far away.<br /><br />I would say the main appeal of the show is due to the fact that it goes where other shows wouldn't dare. Forget pretty pictures painted for mainstream audiences, forget charm, forget romance...OZ doesn't mess around. The first episode I ever saw struck me as so nasty it was surreal, I couldn't say I was ready for it, but as I watched more, I developed a taste for Oz, and got accustomed to the high levels of graphic violence. Not just violence, but injustice (crooked guards who'll be sold out for a nickel, inmates who'll kill on order and get away with it, well mannered, middle class inmates being turned into prison bitches due to their lack of street skills or prison experience) Watching Oz, you may become comfortable with what is uncomfortable viewing....thats if you can get in touch with your darker side.\"\n",
            " 'A wonderful little production. <br /><br />The filming technique is very unassuming- very old-time-BBC fashion and gives a comforting, and sometimes discomforting, sense of realism to the entire piece. <br /><br />The actors are extremely well chosen- Michael Sheen not only \"has got all the polari\" but he has all the voices down pat too! You can truly see the seamless editing guided by the references to Williams\\' diary entries, not only is it well worth the watching but it is a terrificly written and performed piece. A masterful production about one of the great master\\'s of comedy and his life. <br /><br />The realism really comes home with the little things: the fantasy of the guard which, rather than use the traditional \\'dream\\' techniques remains solid then disappears. It plays on our knowledge and our senses, particularly with the scenes concerning Orton and Halliwell and the sets (particularly of their flat with Halliwell\\'s murals decorating every surface) are terribly well done.'\n",
            " 'I thought this was a wonderful way to spend time on a too hot summer weekend, sitting in the air conditioned theater and watching a light-hearted comedy. The plot is simplistic, but the dialogue is witty and the characters are likable (even the well bread suspected serial killer). While some may be disappointed when they realize this is not Match Point 2: Risk Addiction, I thought it was proof that Woody Allen is still fully in control of the style many of us have grown to love.<br /><br />This was the most I\\'d laughed at one of Woody\\'s comedies in years (dare I say a decade?). While I\\'ve never been impressed with Scarlet Johanson, in this she managed to tone down her \"sexy\" image and jumped right into a average, but spirited young woman.<br /><br />This may not be the crown jewel of his career, but it was wittier than \"Devil Wears Prada\" and more interesting than \"Superman\" a great comedy to go see with friends.'\n",
            " ...\n",
            " \"This show is awesome! I love all the actors! It has great story lines and characters. It is the perfect drama. James Caan and Josh Duhamel have great dialogue. They both can be really funny.I miss Vanessa Marcil on General Hospital, but she's great on here. James Lesure is great! He can be hilarious. Molly Sims plays a dimwit very well. The writing is awesome!They keep up an excellent pace. The show can really leave you hanging, which is one of my favorite elements of a show. I cannot wait until the new season starts. This show makes it to the top ten of all my shows. I hope this show stays on for a really long time. If people know what good is, it will. I never want the show to end. Ever.\"\n",
            " \"The fact that this movie has been entitled to the most successful movie in Switzerland's film history makes me shake my head! It's true, but pitiful at the same time. A flick about the Swiss army could be a good deal better.<br /><br />The story sounds interesting, at the beginning: Antonio Carrera (Michael Koch) gets forced to absolve his military training by the army while he is in the church, wedding his love Laura Moretti (Mia Aegerter).<br /><br />The Acting in some way doesn't really differ from just a few recruits getting drunk and stoned in the reality. Melanie Winiger plays her role as the strong Michelle Bluntschi mediocre, personally i found her rather annoying. <br /><br />The storyline contains a comedy combined with a romance, which does not work as expected. The romance-part is too trashy, and the comedy-part is not funny at all, it's just a cheap try and does not change throughout the whole movie whatsoever. It's funny for preadolescent 12-13 year olds, but not for such as those who search an entertaining comedy. The humor is weak except for some shots.<br /><br />Dope? Cool! Stealing? Cool! If you want a proper comedy about the Swiss RS, make sure you did not absolve your military training yet, and even then don't expect too much!<br /><br />I'll give it 4 out of 10 stars, because Marco Rima is quite funny during his screen time. Not a hell of a lot screen time though\"\n",
            " \"I have to confess that I am severely disappointed.<br /><br />This version can in no way compete with the version of 1995. The reason why I watched it was that I wasn't entirely happy with Ciaran Hinds as Captain Wentworth and thought that Rupert Penry-Jones looked much more like the Captain I had imagined when I read the book. And he was too.<br /><br />Unfortunately that is the only redeeming quality of the film. The rest is as un-Austen-like as possible.<br /><br />Miss Elliot would NEVER have run through the streets of Bath like this. It wasn't in her character and it just wasn't done by a lady of the those times. The Anne Elliot of the book was a lady and she had dignity. There are other painful anachronisms but this was the worst.<br /><br />Although there are 3 important quotes from the book, they are at entirely inappropriate moments, warning those who know the book that yet another important part of the book will either be missing or completely changed.<br /><br />And although this version is not much shorter than the other one, it feels like everything is rushed. Very little care was taken to introduce the characters, show their dispositions and motives. Important scenes were omitted. How could they possibly have butchered the final scenes in this way ? A disaster ! And it was by far not as beautifully photographed as the other one.<br /><br />No, no, no. If you love Austen, then don't waste your time with this.\"]\n",
            "[[0. 1.]\n",
            " [0. 1.]\n",
            " [0. 1.]\n",
            " ...\n",
            " [0. 1.]\n",
            " [1. 0.]\n",
            " [1. 0.]]\n"
          ]
        }
      ],
      "source": [
        "display_trainx_trainy()"
      ]
    },
    {
      "cell_type": "markdown",
      "metadata": {
        "id": "p6VmPtCMYZ3-"
      },
      "source": [
        "## Section 2.2 - Build a Word Dictionary and Tokenize Text\n",
        "\n",
        "Let's review the various stages in our Text Classification task using Deep Learning. The first step is to go through our text processing to tokenize a string of text into individual words. Then we convert each word into Word Embeddings. Next, we pass the sequence of words into a Recurrent Neural Network which then computes a series of features before sending that into a Fully Connected dense layer for classification.\n",
        "\n",
        "<img src=\"https://nyp-aicourse.s3-ap-southeast-1.amazonaws.com/resources/day2-pm/textclass_dl.PNG\" />\n",
        "\n",
        "---\n",
        "\n",
        "The following function creates a dictionary of n words, based the words that appeared in all the training data.\n",
        "\n",
        "It also performs tokenization, which is a necessary step to split up a sentence into into words, and assigning a numeric identifier to the word.\n",
        "\n",
        "With Scikit-Learn, the tokenization (as well as Lemmatization) is handled by the NLTK toolkit and integrated into the Scikit-Learn processing pipeline. But in the case of Keras, we have to handle that by ourselves. While lemmatization is beneficial in Classical Machine Learning algorithms, it's improvement to performance may be less significant in Deep Learning, depending on the written language that you are trying to classify. In our case, we will proceed to classify our movie reviews without lemmatizing the text.\n",
        "\n",
        "Go ahead to run the cell below to build our dictionary and data set."
      ]
    },
    {
      "cell_type": "code",
      "execution_count": 8,
      "metadata": {
        "id": "s-GAVO-8YZ3_",
        "outputId": "a34d0263-1229-4a4a-852f-a46b2772d460",
        "colab": {
          "base_uri": "https://localhost:8080/"
        }
      },
      "outputs": [
        {
          "output_type": "stream",
          "name": "stdout",
          "text": [
            "Initializing tokenizer...\n",
            "Tokenizing training data...\n",
            "  Max number of words in a sentence: 2442\n",
            "Tokenizing test data...\n",
            "  Max number of words in a sentence: 2318\n",
            "Complete.\n"
          ]
        }
      ],
      "source": [
        "# Split and tokenize all the strings into individual word index\n",
        "# in a dictionary.\n",
        "#\n",
        "# NOTE: If you want to this again, you must re-load the data from CSV in\n",
        "#       in step 2.1.\n",
        "#\n",
        "build_dictionary_and_tokenize_data(\n",
        "    50000,                                        # Max number of words in dictionary\n",
        "    2500)                                        # Max number of words per sentence."
      ]
    },
    {
      "cell_type": "markdown",
      "metadata": {
        "id": "uUlkT_ZSYZ4B"
      },
      "source": [
        "Run the cell below to see how our sentences now look like.\n",
        "\n",
        "You can see that each sentence has been converted into a series of numbers."
      ]
    },
    {
      "cell_type": "code",
      "execution_count": 9,
      "metadata": {
        "id": "LNZ8PZcPYZ4B",
        "outputId": "38820b43-b5a5-410c-da45-b8f389abcc34",
        "colab": {
          "base_uri": "https://localhost:8080/"
        }
      },
      "outputs": [
        {
          "output_type": "stream",
          "name": "stdout",
          "text": [
            "[[   0    0    0 ...  125 4103  486]\n",
            " [   0    0    0 ... 1977   69  221]\n",
            " [   0    0    0 ...   63   16  350]\n",
            " ...\n",
            " [   0    0    0 ...    5  127  123]\n",
            " [   0    0    0 ...  258   55  151]\n",
            " [   0    0    0 ...   55   16   11]]\n",
            "[[0. 1.]\n",
            " [0. 1.]\n",
            " [0. 1.]\n",
            " ...\n",
            " [0. 1.]\n",
            " [1. 0.]\n",
            " [1. 0.]]\n"
          ]
        }
      ],
      "source": [
        "display_trainx_trainy()"
      ]
    },
    {
      "cell_type": "markdown",
      "metadata": {
        "id": "xTLHhIHaYZ4D"
      },
      "source": [
        "## Section 2.3 - Load the Glove Word Embeddings\n",
        "\n",
        "Word Embeddings are a well-recognized way of representing the meaning of a word in Machine Learning. Thanks to the vast sources of written text on the internet today from written articles, news, Wikipedias, user-generated content on social media, we have amassed a huge corpus of language data useful in training and producing a machine-learned representation of words.\n",
        "\n",
        "A few of the Word Embeddings that have been pre-trained and made available for download are the Glove and Word2Vec embeddings. These embeddings are basically a dictionary look-up that maps a word to a series of numbers.\n",
        "\n",
        "For this exercise, we will use the Glove Embeddings available here: https://nlp.stanford.edu/projects/glove/\n",
        "\n",
        "We have already downloaded the Glove Embeddings file to the **\"data/glove.6B.200d.txt\"**. Update the path to that file and run the cell to load it up."
      ]
    },
    {
      "cell_type": "code",
      "execution_count": 11,
      "metadata": {
        "id": "5AZFQY8DYZ4E",
        "outputId": "c80a1a49-e029-4214-ee18-7ce85c8aad2e",
        "colab": {
          "base_uri": "https://localhost:8080/"
        }
      },
      "outputs": [
        {
          "output_type": "stream",
          "name": "stdout",
          "text": [
            "Loading GloVe Word Embedding...\n",
            "Complete.\n"
          ]
        }
      ],
      "source": [
        "# TODO:\n",
        "# Set the path to the Glove Word Embedding file\n",
        "#\n",
        "load_glove_embedding(\"data/glove.6B.200d.txt\")"
      ]
    },
    {
      "cell_type": "markdown",
      "metadata": {
        "id": "pKHjoaC-YZ4G"
      },
      "source": [
        "Replace the ??? with any known English word, and run the following cell to see how a real word embedding looks like."
      ]
    },
    {
      "cell_type": "code",
      "execution_count": 12,
      "metadata": {
        "id": "bMKCXfRcYZ4H",
        "outputId": "e23ebd24-154c-4e7b-9df3-2110e2e31d7e",
        "colab": {
          "base_uri": "https://localhost:8080/"
        }
      },
      "outputs": [
        {
          "output_type": "stream",
          "name": "stdout",
          "text": [
            "Index of word poor: 333\n",
            "Word embedding:\n",
            "[ 5.43020010e-01 -3.32870007e-01 -2.79540002e-01  6.20350003e-01\n",
            " -2.97069997e-01  1.08599998e-01 -8.95749986e-01  7.62070017e-03\n",
            " -2.41809994e-01  4.60869998e-01  3.44509989e-01  1.40929997e-01\n",
            "  1.98520005e-01 -1.69070005e-01  7.61619985e-01  2.85650015e-01\n",
            " -3.16570014e-01 -2.64739990e-01  4.50519994e-02  1.70040003e-03\n",
            "  3.05510014e-01  2.81520009e+00 -7.70349979e-01  3.92159998e-01\n",
            "  1.24710001e-01 -1.97779998e-01  2.86430001e-01 -1.79150000e-01\n",
            " -6.25260025e-02  2.99809992e-01  5.23199975e-01 -1.52219996e-01\n",
            " -1.39449999e-01  9.24070001e-01  2.37739995e-01 -1.95140000e-02\n",
            " -6.10099994e-02 -6.73839986e-01 -6.15119994e-01 -4.89210010e-01\n",
            "  8.95190015e-02  1.28859999e-02  3.81969996e-02  1.40849993e-01\n",
            " -1.47330001e-01 -2.01279998e-01  1.37160003e-01  7.29210004e-02\n",
            " -2.27070004e-01 -9.23380032e-02 -5.69769979e-01 -9.82960016e-02\n",
            " -7.20700026e-02 -4.14300002e-02 -3.88690010e-02 -4.69909996e-01\n",
            "  2.06970006e-01  3.27540010e-01  2.83589989e-01 -3.13710004e-01\n",
            "  1.10950001e-01 -1.08860004e+00 -4.07339990e-01  2.85380006e-01\n",
            " -7.83130005e-02  8.43529999e-01 -1.56690001e-01  2.87739992e-01\n",
            "  6.46089971e-01 -1.69569999e-01  4.19010013e-01  2.79190004e-01\n",
            " -3.96010011e-01  8.92790020e-01  1.45970002e-01  5.80690026e-01\n",
            " -2.01800004e-01 -3.68730016e-02  6.54799998e-01  1.53160006e-01\n",
            " -9.62520018e-02  4.83390003e-01 -9.44079995e-01  5.03419995e-01\n",
            " -3.12660001e-02  6.78560019e-01 -7.25170001e-02 -7.58069992e-01\n",
            "  4.59679991e-01 -3.73490006e-01 -5.49830019e-01  2.49660000e-01\n",
            " -3.21069986e-01  2.35880002e-01 -2.33710006e-01 -4.41890001e-01\n",
            "  6.27029985e-02 -4.92049992e-01  2.89480001e-01  6.22640014e-01\n",
            " -1.36690006e-01 -4.29890007e-01  3.28170002e-01  6.15029991e-01\n",
            "  1.44779995e-01  6.10130012e-01  3.99679989e-01  8.42589974e-01\n",
            " -3.95700008e-01 -3.79110008e-01  9.35909972e-02 -6.48780018e-02\n",
            " -4.61450011e-01  4.72420007e-01 -3.41490000e-01 -2.60530002e-02\n",
            "  3.40730011e-01  2.15379998e-01 -7.99319968e-02 -1.76279992e-02\n",
            "  8.08969975e-01 -2.86570013e-01 -2.16849998e-01 -2.46710002e-01\n",
            " -1.03759998e-02 -3.13589990e-01  2.94319987e-01 -7.74729997e-02\n",
            " -3.14450003e-02  3.07660013e-01 -2.42129996e-01 -4.61679995e-02\n",
            "  2.88890004e-01  1.43870004e-02 -7.07840025e-02  1.58390000e-01\n",
            "  2.87809998e-01  4.98490006e-01 -4.41619992e-01 -6.44230008e-01\n",
            " -4.08030003e-01 -2.09299996e-01 -5.75630009e-01 -4.77250010e-01\n",
            "  9.98780012e-01 -2.06790000e-01 -7.20979989e-01 -6.81259990e-01\n",
            "  3.42489988e-01  2.61020005e-01 -5.65630011e-02 -2.96999991e-01\n",
            "  1.97929993e-01 -3.61629985e-02  9.74450037e-02 -1.50959998e-01\n",
            "  2.81910002e-01 -3.50070000e-02 -5.13279974e-01 -8.25679973e-02\n",
            "  5.45819998e-01  1.09059997e-01 -4.96440008e-02  5.30920029e-01\n",
            " -1.09169997e-01 -5.34369983e-02  4.81200010e-01  7.75510013e-01\n",
            " -2.94690013e-01  6.16689995e-02 -4.50120002e-01  1.40699998e-01\n",
            " -2.91929990e-01  4.34089988e-01  4.70380008e-01 -2.95269996e-01\n",
            " -3.53179991e-01  4.49479997e-01  2.10630000e-01  6.01419985e-01\n",
            "  1.13329995e+00  5.01349986e-01 -5.68199992e-01  2.35589996e-01\n",
            " -3.50109994e-01  7.00249970e-02  1.01899996e-01 -3.26689988e-01\n",
            "  5.64230010e-02  1.21310003e-01  2.38959998e-01 -1.61709994e-01\n",
            " -7.68079996e-01  8.48950028e-01  1.42419994e-01 -7.89009988e-01\n",
            " -1.75840005e-01 -1.87490001e-01  1.44309998e-01  3.25260013e-01]\n"
          ]
        }
      ],
      "source": [
        "# TODO:\n",
        "# Set any known English word to see its Word Embedding.\n",
        "#\n",
        "display_word_embedding(\"poor\")"
      ]
    },
    {
      "cell_type": "markdown",
      "metadata": {
        "id": "IbOfuF-aYZ4J"
      },
      "source": [
        "Humans can visualize nearby words if we wrote all of them in Post-Its and pasted them in a 2-dimensional flipchart. But in practice, we need more than 2 dimensions to capture meaning in a word. The Glove Embedding that we use captures 200 dimensions of numbers per word. We won't be able to visualize nearby words with a 200-dimension representation, but machines will have no problems computing distances of words represented with any number of dimensions.\n",
        "\n",
        "By feeding the Word Embeddings of each word in a sentence to the Deep Learning model, we are essentially telling the Deep Learning model to make use of the meaning of each words in a paragraph to classify that paragraph.\n",
        "\n",
        "Run the following cell with any word to see how the machine can determine the closest matching/meaning words with the help of the Glove Word Embedding look up."
      ]
    },
    {
      "cell_type": "code",
      "execution_count": 14,
      "metadata": {
        "id": "oV86g941YZ4J",
        "outputId": "16a7c2c1-4cef-46cb-c668-e48945f12944",
        "colab": {
          "base_uri": "https://localhost:8080/"
        }
      },
      "outputs": [
        {
          "output_type": "stream",
          "name": "stdout",
          "text": [
            "better                         3.507248\n",
            "always                         3.640628\n",
            "really                         3.705178\n",
            "sure                           3.713096\n",
            "well                           3.806234\n",
            "way                            3.926139\n",
            "kind                           3.962501\n",
            "things                         3.969100\n",
            "so                             3.977939\n",
            "very                           4.029464\n"
          ]
        }
      ],
      "source": [
        "# TODO:\n",
        "# Set any word here and run the cell to see which word is\n",
        "# close in meaning to the one you supplied.\n",
        "#\n",
        "display_nearby_words(\"good\")"
      ]
    },
    {
      "cell_type": "markdown",
      "metadata": {
        "id": "zDgGHjCDgU6e"
      },
      "source": [
        "## Section 2.4 - Create the Deep Learning Text Classification Model\n",
        "\n",
        "The following creates the Deep Learning model for our Text Classification task. A typical Recurrent Neural Network will look like the following:\n",
        "\n",
        "<img src=\"https://nyp-aicourse.s3-ap-southeast-1.amazonaws.com/resources/day2-pm/we_rnn_dl.PNG\" height=\"300\">\n",
        "\n",
        "The Word Embedding captures the meaning of the words, while the Recurrent Neural Network attempts to make sense of the order and position of the words.\n",
        "\n",
        "---\n",
        "\n",
        "In the cell below, we have some codes to create the above model architecture, with some hyper-parameters that you can change to alter the structure of the model and how the model learns.\n",
        "\n",
        "For example, you may consider using GRU instead of LSTM, or you may choose to use a Bi-directional/Uni-directional model. A Uni-directional model takes in a sequence of words in the natural reading order. A Bi-directional model takes in a sentence in from first-to-last word and last-to-first word, allowing the model to capture contexts in both directions.\n",
        "\n",
        "Update the hyper-parameters and then run the cell to create the model.\n",
        "\n",
        "1. Recurrent Neural Network variant in the Recurrent Layer: **'lstm'**\n",
        "2. Neurons in Recurrent Layer: **32**\n",
        "2. Bi-directional: **True**\n",
        "3. Optimizer: **'adam'**\n",
        "\n"
      ]
    },
    {
      "cell_type": "code",
      "execution_count": 20,
      "metadata": {
        "id": "geyYJIUoFzW3",
        "outputId": "58fb7a5f-cf4d-42fe-81bf-0c49a264831b",
        "colab": {
          "base_uri": "https://localhost:8080/"
        }
      },
      "outputs": [
        {
          "output_type": "stream",
          "name": "stdout",
          "text": [
            "Model: \"sequential_2\"\n",
            "_________________________________________________________________\n",
            " Layer (type)                Output Shape              Param #   \n",
            "=================================================================\n",
            " embedding_2 (Embedding)     (None, 2500, 200)         24850600  \n",
            "                                                                 \n",
            " bidirectional (Bidirection  (None, 64)                59648     \n",
            " al)                                                             \n",
            "                                                                 \n",
            " activation (Activation)     (None, 64)                0         \n",
            "                                                                 \n",
            " dense_2 (Dense)             (None, 2)                 130       \n",
            "                                                                 \n",
            "=================================================================\n",
            "Total params: 24910378 (95.03 MB)\n",
            "Trainable params: 59778 (233.51 KB)\n",
            "Non-trainable params: 24850600 (94.80 MB)\n",
            "_________________________________________________________________\n"
          ]
        }
      ],
      "source": [
        "# TODO:\n",
        "# Update the hyper parameters before starting the training.\n",
        "#\n",
        "create_text_classifier_model_rnn(\n",
        "    2,                                        # Number of classes to predict\n",
        "    2500,                                     # Max number words per sentence\n",
        "    'glove',                                  # Word Embedding                  ('glove' / 'new')\n",
        "    'lstm',                                    # RNN variant                     ('rnn' / 'gru' / 'lstm')\n",
        "    32,                                        # Neurons in RNN layer            (typically 16 to 1024)\n",
        "    True,                                     # Use bi-directional RNN?         (False - Uni-directional / True - Bi-directional)\n",
        "    'adam'                                     # Optimizer to learn              ('sgd' / 'adam')\n",
        ")"
      ]
    },
    {
      "cell_type": "markdown",
      "metadata": {
        "id": "YlqlFTq_g0Oo"
      },
      "source": [
        "## Section 2.5 - Train Your Model\n",
        "\n",
        "Update the following parameters and then run the cell below to start the training.\n",
        "\n",
        "1. Learning rate = **0.01** (for 'sgd' optimizer), **0.001** (for 'adam' optimizer)\n",
        "2. Batch size = **100**,\n",
        "3. Number of epochs = **5**\n",
        "\n",
        "Take a look at the accuracy of your classifications on the test data and compare its F1-score with your classical Machine Learning models. Try to adjust some of the hyper-parameters above including the RNN variant, the number of neurons, using/not using bi-directional networks, using a different optimizer, changing the batch size and the number of epochs. The run Section 2.4 and 2.5 again to train.\n",
        "\n",
        "Try experimenting with different combinations of hyper-parameters to see if you can achieve a good F1-score."
      ]
    },
    {
      "cell_type": "code",
      "execution_count": 21,
      "metadata": {
        "id": "9GOPphNXFzW6",
        "outputId": "2c7557fa-4d15-4fca-8745-6e732ea3e68f",
        "colab": {
          "base_uri": "https://localhost:8080/"
        }
      },
      "outputs": [
        {
          "output_type": "stream",
          "name": "stdout",
          "text": [
            "Epoch 1/5\n",
            "400/400 [==============================] - 70s 154ms/step - loss: 0.5013 - accuracy: 0.7561 - val_loss: 0.4167 - val_accuracy: 0.8170\n",
            "Epoch 2/5\n",
            "400/400 [==============================] - 62s 155ms/step - loss: 0.3837 - accuracy: 0.8338 - val_loss: 0.3331 - val_accuracy: 0.8565\n",
            "Epoch 3/5\n",
            "400/400 [==============================] - 56s 140ms/step - loss: 0.3218 - accuracy: 0.8623 - val_loss: 0.3190 - val_accuracy: 0.8637\n",
            "Epoch 4/5\n",
            "400/400 [==============================] - 57s 142ms/step - loss: 0.2925 - accuracy: 0.8763 - val_loss: 0.2888 - val_accuracy: 0.8773\n",
            "Epoch 5/5\n",
            "400/400 [==============================] - 61s 152ms/step - loss: 0.2718 - accuracy: 0.8865 - val_loss: 0.2975 - val_accuracy: 0.8730\n"
          ]
        }
      ],
      "source": [
        "# TODO:\n",
        "# Set the learning rate of the deep learning network\n",
        "# A large learning rate helps to adjust quickly the network weights to the optimal\n",
        "# goal, but it may also cause it to over-shoot its goal. A small learning rate\n",
        "# causes the network to learn very slowly, but it may bring it to its nearest goal\n",
        "\n",
        "set_learning_rate(0.001)\n",
        "\n",
        "\n",
        "# TODO:\n",
        "# Update the batch size, and the number of epochs to train.\n",
        "#\n",
        "train_text_classifier_model(\n",
        "    100,                         # Batch size.\n",
        "    5                          # Number of epochs/iterations to train this model.\n",
        "    )"
      ]
    },
    {
      "cell_type": "code",
      "source": [
        "## uncomment the following if GPU training is not available\n",
        "\n",
        "# !wget https://nyp-aicourse.s3.ap-southeast-1.amazonaws.com/aiup/day2-pm/lab2/sentiment.model.zip\n",
        "# !wget https://nyp-aicourse.s3.ap-southeast-1.amazonaws.com/aiup/day2-pm/lab2/train_history.pkl\n",
        "# !unzip sentiment.model.zip\n",
        "# load_pretrained()"
      ],
      "metadata": {
        "id": "8tHLlIr2-LWD"
      },
      "execution_count": null,
      "outputs": []
    },
    {
      "cell_type": "code",
      "source": [
        "display_training_progress()\n",
        "evaluate_model()"
      ],
      "metadata": {
        "id": "buO6PhP8-T_H",
        "outputId": "867ee453-f335-42f6-b747-5f7d4847a4e9",
        "colab": {
          "base_uri": "https://localhost:8080/",
          "height": 1000
        }
      },
      "execution_count": 22,
      "outputs": [
        {
          "output_type": "display_data",
          "data": {
            "text/plain": [
              "<Figure size 2000x400 with 2 Axes>"
            ],
            "image/png": "[encoded data removed]"
          },
          "metadata": {}
        },
        {
          "output_type": "stream",
          "name": "stdout",
          "text": [
            "Evaluating classifier...\n",
            "313/313 [==============================] - 16s 49ms/step\n"
          ]
        },
        {
          "output_type": "display_data",
          "data": {
            "text/plain": [
              "<Figure size 2000x600 with 2 Axes>"
            ],
            "image/png": "[encoded data removed]"
          },
          "metadata": {}
        },
        {
          "output_type": "stream",
          "name": "stdout",
          "text": [
            "Test Data\n",
            "--------------------------------------------------------\n",
            "              precision    recall  f1-score   support\n",
            "\n",
            "    negative       0.93      0.81      0.86      4993\n",
            "    positive       0.83      0.94      0.88      5007\n",
            "\n",
            "    accuracy                           0.87     10000\n",
            "   macro avg       0.88      0.87      0.87     10000\n",
            "weighted avg       0.88      0.87      0.87     10000\n",
            "\n"
          ]
        }
      ]
    },
    {
      "cell_type": "markdown",
      "metadata": {
        "id": "XZiyb6wXhCzU"
      },
      "source": [
        "## Section 2.6 - Save Your Text Classification Model\n",
        "\n",
        "Run the following code below to save your Text Classification model.\n"
      ]
    },
    {
      "cell_type": "code",
      "execution_count": 23,
      "metadata": {
        "id": "_CC-_8hDFzXB",
        "outputId": "fa037dab-0b5c-491f-8f75-8883cd257da1",
        "colab": {
          "base_uri": "https://localhost:8080/"
        }
      },
      "outputs": [
        {
          "output_type": "stream",
          "name": "stderr",
          "text": [
            "/usr/local/lib/python3.10/dist-packages/keras/src/engine/training.py:3079: UserWarning: You are saving your model as an HDF5 file via `model.save()`. This file format is considered legacy. We recommend using instead the native Keras format, e.g. `model.save('my_model.keras')`.\n",
            "  saving_api.save_model(\n"
          ]
        }
      ],
      "source": [
        "save_text_classifier_model(\"models/text_classifier.h5\")"
      ]
    },
    {
      "cell_type": "markdown",
      "metadata": {
        "id": "w0FY1W-9hJ_L"
      },
      "source": [
        "## Section 2.7 - Load Your Text Classification Model\n",
        "\n",
        "Run the following code below to load your Text Classification model.\n"
      ]
    },
    {
      "cell_type": "code",
      "execution_count": 24,
      "metadata": {
        "id": "V-2hmOetFzXD"
      },
      "outputs": [],
      "source": [
        "load_text_classifier_model(\"models/text_classifier.h5\")"
      ]
    },
    {
      "cell_type": "markdown",
      "metadata": {
        "id": "9ExHRj7ehTbg"
      },
      "source": [
        "## Section 2.8 - Try Out Your Model\n",
        "\n",
        "Run the following code to try your model.\n",
        "\n",
        "Discuss how you feel about this new classifier:\n",
        "\n",
        "1. Did the accuracy of your model performance increase with Deep Learning?\n",
        "2. What do you think you can do to further improve the accuracy of your model?\n",
        "3. How does the accuracy of your model feel when you are testing it manually?\n"
      ]
    },
    {
      "cell_type": "code",
      "execution_count": 30,
      "metadata": {
        "id": "_wMECaArFzXG",
        "outputId": "a57826b1-67f2-4e32-e27b-34d78660149d",
        "colab": {
          "base_uri": "https://localhost:8080/"
        }
      },
      "outputs": [
        {
          "output_type": "stream",
          "name": "stdout",
          "text": [
            "test it out:\n",
            "gerald tan jiale\n",
            "You entered: gerald tan jiale\n",
            "1/1 [==============================] - 0s 64ms/step\n",
            "Classification result:\n",
            "negative\n",
            "0.552 - negative\n",
            "0.448 - positive\n"
          ]
        }
      ],
      "source": [
        "print (\"test it out:\")\n",
        "user_text = input()\n",
        "classify_text(user_text)"
      ]
    },
    {
      "cell_type": "markdown",
      "metadata": {
        "id": "xZ0zmubPYZ4a"
      },
      "source": [
        "## Section 2.9 - Explore helpers.py\n",
        "\n",
        "Go ahead again to examine the codes in helpers.py to see how we create the Deep Learning model in Keras."
      ]
    },
    {
      "cell_type": "code",
      "source": [],
      "metadata": {
        "id": "2oDJY1MH7MJQ"
      },
      "execution_count": null,
      "outputs": []
    }
  ],
  "metadata": {
    "accelerator": "GPU",
    "colab": {
      "name": "day2pm_lab2_colab_exercise.ipynb",
      "provenance": [],
      "include_colab_link": true
    },
    "kernelspec": {
      "display_name": "Python 3",
      "language": "python",
      "name": "python3"
    },
    "language_info": {
      "codemirror_mode": {
        "name": "ipython",
        "version": 3
      },
      "file_extension": ".py",
      "mimetype": "text/x-python",
      "name": "python",
      "nbconvert_exporter": "python",
      "pygments_lexer": "ipython3",
      "version": "3.7.9"
    }
  },
  "nbformat": 4,
  "nbformat_minor": 0
}